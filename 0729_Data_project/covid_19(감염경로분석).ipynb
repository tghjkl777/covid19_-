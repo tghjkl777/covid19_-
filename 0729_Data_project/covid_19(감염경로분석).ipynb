{
 "cells": [
  {
   "cell_type": "markdown",
   "metadata": {},
   "source": [
    "# 코로나 데이터 분석(확진자 감염 경로 분석)\n",
    "- 확진자 감염 경로를 분석하기 위함\n",
    "- 참조 : https://dacon.io/competitions/official/235590/codeshare/1060\n"
   ]
  },
  {
   "cell_type": "code",
   "execution_count": 1,
   "metadata": {},
   "outputs": [
    {
     "name": "stdout",
     "output_type": "stream",
     "text": [
      "Requirement already satisfied: pyvis in c:\\programdata\\anaconda3\\lib\\site-packages (0.1.8.1.1)\n",
      "Requirement already satisfied: networkx>=1.11 in c:\\programdata\\anaconda3\\lib\\site-packages (from pyvis) (2.4)\n",
      "Requirement already satisfied: ipython>=5.3.0 in c:\\programdata\\anaconda3\\lib\\site-packages (from pyvis) (7.12.0)\n",
      "Requirement already satisfied: jinja2>=2.9.6 in c:\\programdata\\anaconda3\\lib\\site-packages (from pyvis) (2.11.1)\n",
      "Requirement already satisfied: decorator>=4.3.0 in c:\\programdata\\anaconda3\\lib\\site-packages (from networkx>=1.11->pyvis) (4.4.1)\n",
      "Requirement already satisfied: jedi>=0.10 in c:\\programdata\\anaconda3\\lib\\site-packages (from ipython>=5.3.0->pyvis) (0.14.1)\n",
      "Requirement already satisfied: prompt-toolkit!=3.0.0,!=3.0.1,<3.1.0,>=2.0.0 in c:\\programdata\\anaconda3\\lib\\site-packages (from ipython>=5.3.0->pyvis) (3.0.3)\n",
      "Requirement already satisfied: setuptools>=18.5 in c:\\programdata\\anaconda3\\lib\\site-packages (from ipython>=5.3.0->pyvis) (45.2.0.post20200210)\n",
      "Requirement already satisfied: traitlets>=4.2 in c:\\programdata\\anaconda3\\lib\\site-packages (from ipython>=5.3.0->pyvis) (4.3.3)\n",
      "Requirement already satisfied: backcall in c:\\programdata\\anaconda3\\lib\\site-packages (from ipython>=5.3.0->pyvis) (0.1.0)\n",
      "Requirement already satisfied: colorama; sys_platform == \"win32\" in c:\\programdata\\anaconda3\\lib\\site-packages (from ipython>=5.3.0->pyvis) (0.4.3)\n",
      "Requirement already satisfied: pickleshare in c:\\programdata\\anaconda3\\lib\\site-packages (from ipython>=5.3.0->pyvis) (0.7.5)\n",
      "Requirement already satisfied: pygments in c:\\programdata\\anaconda3\\lib\\site-packages (from ipython>=5.3.0->pyvis) (2.5.2)\n",
      "Requirement already satisfied: MarkupSafe>=0.23 in c:\\programdata\\anaconda3\\lib\\site-packages (from jinja2>=2.9.6->pyvis) (1.1.1)\n",
      "Requirement already satisfied: parso>=0.5.0 in c:\\programdata\\anaconda3\\lib\\site-packages (from jedi>=0.10->ipython>=5.3.0->pyvis) (0.5.2)\n",
      "Requirement already satisfied: wcwidth in c:\\programdata\\anaconda3\\lib\\site-packages (from prompt-toolkit!=3.0.0,!=3.0.1,<3.1.0,>=2.0.0->ipython>=5.3.0->pyvis) (0.1.8)\n",
      "Requirement already satisfied: ipython-genutils in c:\\programdata\\anaconda3\\lib\\site-packages (from traitlets>=4.2->ipython>=5.3.0->pyvis) (0.2.0)\n",
      "Requirement already satisfied: six in c:\\programdata\\anaconda3\\lib\\site-packages (from traitlets>=4.2->ipython>=5.3.0->pyvis) (1.14.0)\n",
      "Requirement already satisfied: networkx in c:\\programdata\\anaconda3\\lib\\site-packages (2.4)\n",
      "Requirement already satisfied: decorator>=4.3.0 in c:\\programdata\\anaconda3\\lib\\site-packages (from networkx) (4.4.1)\n",
      "Requirement already satisfied: jsonpickle in c:\\programdata\\anaconda3\\lib\\site-packages (1.4.1)\n",
      "Requirement already satisfied: importlib-metadata in c:\\programdata\\anaconda3\\lib\\site-packages (from jsonpickle) (1.5.0)\n",
      "Requirement already satisfied: zipp>=0.5 in c:\\programdata\\anaconda3\\lib\\site-packages (from importlib-metadata->jsonpickle) (2.2.0)\n"
     ]
    }
   ],
   "source": [
    "!pip install pyvis\n",
    "!pip install networkx\n",
    "!pip install jsonpickle\n",
    "# 필요 모듈 선언\n",
    "import pandas as pd\n",
    "import os\n",
    "import numpy as np\n",
    "import matplotlib.pyplot as plt\n",
    "import seaborn as sns\n",
    "import folium\n",
    "import json\n",
    "from folium.features import CustomIcon"
   ]
  },
  {
   "cell_type": "code",
   "execution_count": 2,
   "metadata": {},
   "outputs": [],
   "source": [
    "case = pd.read_csv('korea_covid\\Case.csv')\n",
    "patinfo = pd.read_csv('korea_covid\\PatientInfo.csv')\n",
    "region = pd.read_csv('korea_covid\\Region.csv')"
   ]
  },
  {
   "cell_type": "code",
   "execution_count": 3,
   "metadata": {
    "scrolled": true
   },
   "outputs": [
    {
     "data": {
      "text/plain": [
       "patient_id               0\n",
       "sex                   1122\n",
       "age                   1380\n",
       "country                  0\n",
       "province                 0\n",
       "city                    94\n",
       "infection_case         919\n",
       "infected_by           3819\n",
       "contact_number        4374\n",
       "symptom_onset_date    4475\n",
       "confirmed_date           3\n",
       "released_date         3578\n",
       "deceased_date         5099\n",
       "state                    0\n",
       "dtype: int64"
      ]
     },
     "execution_count": 3,
     "metadata": {},
     "output_type": "execute_result"
    }
   ],
   "source": [
    "patinfo.isnull().sum()"
   ]
  },
  {
   "cell_type": "markdown",
   "metadata": {},
   "source": [
    "- 결과물을 보기 앞서 분석한 데이터에 기입되지 않은 항목 (age, infection_case) 등이 다수 존재하여 정보가 없는 값은 검은색으로 표현했습니다."
   ]
  },
  {
   "cell_type": "code",
   "execution_count": 4,
   "metadata": {},
   "outputs": [],
   "source": [
    "import networkx as nx"
   ]
  },
  {
   "cell_type": "code",
   "execution_count": 5,
   "metadata": {},
   "outputs": [],
   "source": [
    "from pyvis.network import Network"
   ]
  },
  {
   "cell_type": "markdown",
   "metadata": {},
   "source": [
    "- patient_list를 통해 확진자 정보 저장\n",
    "- case_list에 감염 경로를 정보 저장"
   ]
  },
  {
   "cell_type": "code",
   "execution_count": 6,
   "metadata": {
    "scrolled": false
   },
   "outputs": [],
   "source": [
    "#집단 감염 케이스\n",
    "infect_case=list(set(case['infection_case'])-set(['etc','contact with patient','overseas inflow']))\n",
    "#결측치 채우기\n",
    "patinfo.fillna('nan',inplace=True)\n",
    "# 지역 확진번호 리스트\n",
    "pat_id=list(patinfo['patient_id'])\n",
    "patient_case=list(patinfo['infection_case'])\n",
    "#누구로부터 감염됐는가\n",
    "who=list(patinfo['infected_by'])\n",
    "#결측치값을 제외, 중복제외\n",
    "from_who=set(list(patinfo['infected_by']))-set(['nan'])\n",
    "# 확진자 id를 정수로 변환\n",
    "from_who=[int(i) for i in from_who]\n",
    "#전체 확진자들 중 who가 결측 아닌 사람들 인덱스\n",
    "who_index=[int(i) for i in range(len(pat_id)) if list(patinfo['infected_by'])[i]!='nan' and who[i] in pat_id]\n",
    "#감염시킨 사람 -> 감염된 확진자\n",
    "new_edges=[(int(who[i]),int(pat_id[i]))for i in who_index]\n",
    "\n",
    "#집단 감염간에는 링크가 연결되지 않는다\n",
    "#감염장소 ->확진자 연결\n",
    "num_case=[(patient_case[num],int(pat_id[num])) for num in range(len(pat_id)) if patient_case[num] in infect_case]\n",
    "#집단감염된 확진자 리스트\n",
    "patient_list=[i[1] for i in num_case]\n",
    "case_list=list(set([i[0] for i in num_case]))\n"
   ]
  },
  {
   "cell_type": "code",
   "execution_count": 7,
   "metadata": {},
   "outputs": [],
   "source": [
    "def get_date(pati_id):\n",
    "    index=pat_id.index(pati_id)\n",
    "    str_day=list(patinfo['confirmed_date'])[index]\n",
    "    str_day=str_day.split('-')\n",
    "    date=''.join(str_day)\n",
    "    date=int(date)\n",
    "    return date"
   ]
  },
  {
   "cell_type": "code",
   "execution_count": 8,
   "metadata": {},
   "outputs": [],
   "source": [
    "new_nodes_1=[i[0] for i in new_edges if i[0] not in patient_list]\n",
    "new_nodes_2=[i[1] for i in new_edges if i[1] not in patient_list]\n",
    "patient_list.extend(new_nodes_1)\n",
    "patient_list.extend(new_nodes_2)\n",
    "patient_list=list(set(patient_list))"
   ]
  },
  {
   "cell_type": "code",
   "execution_count": 9,
   "metadata": {},
   "outputs": [],
   "source": [
    "edge_list=list(num_case)\n",
    "edge_list.extend(new_edges)"
   ]
  },
  {
   "cell_type": "code",
   "execution_count": 10,
   "metadata": {},
   "outputs": [],
   "source": [
    "G=nx.Graph()\n",
    "G.add_nodes_from(patient_list,bipartite=1)\n",
    "G.add_nodes_from(case_list,bipartite=0)\n",
    "G.add_edges_from(edge_list)\n",
    "components_covid=[x for x in sorted(nx.connected_components(G),key=len,reverse=True)]\n",
    "num_node_compo=[len(x) for x in sorted(nx.connected_components(G),key=len,reverse=True)]\n",
    "first=num_node_compo.index(5)\n",
    "smaller=components_covid[first:]\n",
    "trash=set()\n",
    "for i in smaller:\n",
    "    trash=trash|i\n",
    "patient_list=list(set(patient_list)-trash)   \n",
    "case_list=list(set(case_list)-trash)\n",
    "edge_list=[i for i in edge_list if i[0] not in list(trash) and i[1] not in list(trash)]\n",
    "#확진자들의 인덱스\n",
    "list_ind=[pat_id.index(i) for i in patient_list]"
   ]
  },
  {
   "cell_type": "code",
   "execution_count": 11,
   "metadata": {},
   "outputs": [],
   "source": [
    "#networkx와 연계해서 딕셔너리 형태 구하기\n",
    "dict_51={}\n",
    "for i in case_list:\n",
    "    dict_51[i]=list(set(G[i])-set(case_list))\n",
    "    \n",
    "for i in case_list:\n",
    "    date=[get_date(j) for j in dict_51[i]]\n",
    "    first_infected=[dict_51[i][k] for k in range(len(date)) if date[k]==min(date)]\n",
    "    for k in first_infected:\n",
    "        edge_list=list(set(edge_list)-set([(i,k)]))\n",
    "        edge_list.append((k,i))"
   ]
  },
  {
   "cell_type": "code",
   "execution_count": 12,
   "metadata": {},
   "outputs": [],
   "source": [
    "g=Network(height=800,width=1600,directed=True,notebook=True)\n",
    "g.set_options(\"\"\"\n",
    "var options = {\n",
    "  \"nodes\": {\n",
    "    \"font\": {\n",
    "      \"size\": 100,\n",
    "      \"strokeColor\": \"rgba(165,215,255,1)\"}}}\n",
    "\"\"\")"
   ]
  },
  {
   "cell_type": "code",
   "execution_count": 13,
   "metadata": {},
   "outputs": [],
   "source": [
    "for i in case_list:\n",
    "    g.add_node(i,title=i,color='gray',label=i,shape='star')"
   ]
  },
  {
   "cell_type": "code",
   "execution_count": 14,
   "metadata": {},
   "outputs": [],
   "source": [
    "for i in list_ind:\n",
    "    id_pat=list(patinfo['patient_id'])[i]\n",
    "    id_pat_str=str(list(patinfo['patient_id'])[i])\n",
    "    age=list(patinfo['age'])[i]\n",
    "    sex=list(patinfo['sex'])[i]\n",
    "    \n",
    "    if age=='0s':\n",
    "        if sex=='male':\n",
    "            g.add_node(id_pat,label=[' '],shape='square',color='purple',size=12,title=id_pat_str)\n",
    "        elif sex=='female':\n",
    "            g.add_node(id_pat,label=[' '],shape='dot',color='purple',size=12,title=id_pat_str)\n",
    "        else:\n",
    "            g.add_node(id_pat,label=[' '],shape='triangle',color='purple',size=12,title=id_pat_str)\n",
    "    \n",
    "    elif age=='10s':\n",
    "        if sex=='male':\n",
    "            g.add_node(id_pat,label=[' '],shape='square',color='indigo',size=12,title=id_pat_str)\n",
    "        elif sex=='female':\n",
    "            g.add_node(id_pat,label=[' '],shape='dot',color='indigo',size=12,title=id_pat_str)\n",
    "        else:\n",
    "            g.add_node(id_pat,label=[' '],shape='triangle',color='indigo',size=12,title=id_pat_str)\n",
    "            \n",
    "    elif age=='20s':\n",
    "        if sex=='male':\n",
    "            g.add_node(id_pat,label=[' '],shape='square',color='blue',size=12,title=id_pat_str)\n",
    "        elif sex=='female':\n",
    "            g.add_node(id_pat,label=[' '],shape='dot',color='blue',size=12,title=id_pat_str)\n",
    "        else:\n",
    "            g.add_node(id_pat,label=[' '],shape='triangle',color='blue',size=12,title=id_pat_str)\n",
    "    elif age=='30s':\n",
    "        if sex=='male':\n",
    "            g.add_node(id_pat,label=[' '],shape='square',color='skyblue',size=12,title=id_pat_str)\n",
    "        elif sex=='female':\n",
    "            g.add_node(id_pat,label=[' '],shape='dot',color='skyblue',size=12,title=id_pat_str)\n",
    "        else:\n",
    "            g.add_node(id_pat,label=[' '],shape='triangle',color='skyblue',size=12,title=id_pat_str)\n",
    "    elif age=='40s':\n",
    "        if sex=='male':\n",
    "            g.add_node(id_pat,label=[' '],shape='square',color='green',size=12,title=id_pat_str)\n",
    "        elif sex=='female':\n",
    "            g.add_node(id_pat,label=[' '],shape='dot',color='green',size=12,title=id_pat_str)\n",
    "        else:\n",
    "            g.add_node(id_pat,label=[' '],shape='triangle',color='green',size=12,title=id_pat_str)\n",
    "    elif age=='50s':\n",
    "        if sex=='male':\n",
    "            g.add_node(id_pat,label=[' '],shape='square',color='lawngreen',size=12,title=id_pat_str)\n",
    "        elif sex=='female':\n",
    "            g.add_node(id_pat,label=[' '],shape='dot',color='lawngreen',size=12,title=id_pat_str)\n",
    "        else:\n",
    "            g.add_node(id_pat,label=[' '],shape='triangle',color='lawngreen',size=12,title=id_pat_str)\n",
    "    elif age=='60s':\n",
    "        if sex=='male':\n",
    "            g.add_node(id_pat,label=[' '],shape='square',color='yellow',size=12,title=id_pat_str)\n",
    "        elif sex=='female':\n",
    "            g.add_node(id_pat,label=[' '],shape='dot',color='yellow',size=12,title=id_pat_str)\n",
    "        else:\n",
    "            g.add_node(id_pat,label=[' '],shape='triangle',color='yellow',size=12,title=id_pat_str)\n",
    "    elif age=='70s':\n",
    "        if sex=='male':\n",
    "            g.add_node(id_pat,label=[' '],shape='square',color='orange',size=12,title=id_pat_str)\n",
    "        elif sex=='female':\n",
    "            g.add_node(id_pat,label=[' '],shape='dot',color='orange',size=12,title=id_pat_str)\n",
    "        else:\n",
    "            g.add_node(id_pat,label=[' '],shape='triangle',color='orange',size=12,title=id_pat_str)\n",
    "    elif age=='80s':\n",
    "        if sex=='male':\n",
    "            g.add_node(id_pat,label=[' '],shape='square',color='red',size=12,title=id_pat_str)\n",
    "        elif sex=='female':\n",
    "            g.add_node(id_pat,label=[' '],shape='dot',color='red',size=12,title=id_pat_str)\n",
    "        else:\n",
    "            g.add_node(id_pat,label=[' '],shape='triangle',color='red',size=12,title=id_pat_str)\n",
    "    elif age=='90s':\n",
    "        if sex=='male':\n",
    "            g.add_node(id_pat,label=[' '],shape='square',color='brown',size=12,title=id_pat_str)\n",
    "        elif sex=='female':\n",
    "            g.add_node(id_pat,label=[' '],shape='dot',color='brown',size=12,title=id_pat_str)\n",
    "        else:\n",
    "            g.add_node(id_pat,label=[' '],shape='triangle',color='brown',size=12,title=id_pat_str)\n",
    "    else:\n",
    "        if sex=='male':\n",
    "            g.add_node(id_pat,label=[' '],shape='square',color='black',size=12,title=id_pat_str)\n",
    "        elif sex=='female':\n",
    "            g.add_node(id_pat,label=[' '],shape='dot',color='black',size=12,title=id_pat_str)\n",
    "        else:\n",
    "            g.add_node(id_pat,label=[' '],shape='triangle',color='black',size=12,title=id_pat_str)"
   ]
  },
  {
   "cell_type": "code",
   "execution_count": 15,
   "metadata": {},
   "outputs": [],
   "source": [
    "for i in edge_list:\n",
    "    g.add_edge(source=i[0],to=i[1])"
   ]
  },
  {
   "cell_type": "code",
   "execution_count": 16,
   "metadata": {
    "scrolled": true
   },
   "outputs": [
    {
     "data": {
      "text/html": [
       "\n",
       "        <iframe\n",
       "            width=\"1600\"\n",
       "            height=\"800\"\n",
       "            src=\"contact_age_sex.html\"\n",
       "            frameborder=\"0\"\n",
       "            allowfullscreen\n",
       "        ></iframe>\n",
       "        "
      ],
      "text/plain": [
       "<IPython.lib.display.IFrame at 0x1e0bb4e6ac8>"
      ]
     },
     "execution_count": 16,
     "metadata": {},
     "output_type": "execute_result"
    }
   ],
   "source": [
    "g.show('contact_age_sex.html')"
   ]
  }
 ],
 "metadata": {
  "kernelspec": {
   "display_name": "Python 3",
   "language": "python",
   "name": "python3"
  },
  "language_info": {
   "codemirror_mode": {
    "name": "ipython",
    "version": 3
   },
   "file_extension": ".py",
   "mimetype": "text/x-python",
   "name": "python",
   "nbconvert_exporter": "python",
   "pygments_lexer": "ipython3",
   "version": "3.7.6"
  }
 },
 "nbformat": 4,
 "nbformat_minor": 4
}
